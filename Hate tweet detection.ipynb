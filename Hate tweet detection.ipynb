{
 "cells": [
  {
   "cell_type": "markdown",
   "id": "bff1e0b0",
   "metadata": {},
   "source": [
    "<h1>introduction</h1>\n",
    "\n",
    "\n",
    "The objective of this task is to detect hate speech in tweets. For the sake of simplicity, we say a tweet contains hate speech if it has a racist or sexist sentiment associated with it. So, the task is to classify racist or sexist tweets from other tweets We will try here using Python libraries to achieve this goal."
   ]
  },
  {
   "cell_type": "code",
   "execution_count": 1,
   "id": "2cb1373f",
   "metadata": {},
   "outputs": [],
   "source": [
    "\n",
    "import numpy as np \n",
    "import pandas as pd \n",
    "import matplotlib.pyplot as plt\n",
    "import seaborn as sns\n",
    "%matplotlib inline\n",
    "\n",
    "\n",
    "from warnings import filterwarnings\n",
    "filterwarnings('ignore')\n",
    "\n",
    "import nltk\n",
    "from nltk.corpus import stopwords\n",
    "from nltk.stem import PorterStemmer\n",
    "#nltk.download('wordnet')\n"
   ]
  },
  {
   "cell_type": "code",
   "execution_count": 2,
   "id": "b735ca1a",
   "metadata": {},
   "outputs": [],
   "source": [
    "import sklearn\n",
    "from sklearn import model_selection, preprocessing, linear_model, metrics\n",
    "from sklearn.feature_extraction.text import CountVectorizer\n",
    "from sklearn.feature_extraction.text import HashingVectorizer\n",
    "from sklearn.feature_extraction.text import TfidfVectorizer\n",
    "from sklearn import ensemble\n",
    "from sklearn.metrics import roc_auc_score, roc_curve\n",
    "from sklearn import set_config\n",
    "\n",
    "from xgboost import XGBClassifier\n",
    "from lightgbm import LGBMClassifier\n",
    "\n",
    "from textblob import Word\n",
    "from textblob import TextBlob\n",
    "\n",
    "import re\n",
    "from wordcloud import WordCloud, STOPWORDS, ImageColorGenerator"
   ]
  },
  {
   "cell_type": "code",
   "execution_count": 3,
   "id": "e23d0938",
   "metadata": {},
   "outputs": [
    {
     "name": "stdout",
     "output_type": "stream",
     "text": [
      "\n",
      "DATASETS WERE SUCCESFULLY LOADED...\n",
      "Wall time: 91.7 ms\n"
     ]
    }
   ],
   "source": [
    "%%time\n",
    "train = pd.read_csv('nlp_train.csv')\n",
    "test = pd.read_csv('nlp_test.csv')\n",
    "print(\"\\nDATASETS WERE SUCCESFULLY LOADED...\")"
   ]
  },
  {
   "cell_type": "markdown",
   "id": "7446c1e7",
   "metadata": {},
   "source": [
    "<h2>Data exploration</h2>\n",
    "\n",
    "Here we will start the stage of exploring the data and trying to learn more about it, and by reviewing it, we will define the next steps¶"
   ]
  },
  {
   "cell_type": "code",
   "execution_count": 4,
   "id": "d4a393c0",
   "metadata": {},
   "outputs": [
    {
     "data": {
      "text/html": [
       "<style type=\"text/css\">\n",
       "#T_cc4c6_row0_col0, #T_cc4c6_row0_col1, #T_cc4c6_row1_col1, #T_cc4c6_row2_col1, #T_cc4c6_row3_col1, #T_cc4c6_row4_col1 {\n",
       "  background-color: #ff00ff;\n",
       "  color: #f1f1f1;\n",
       "}\n",
       "#T_cc4c6_row1_col0 {\n",
       "  background-color: #ff40bf;\n",
       "  color: #f1f1f1;\n",
       "}\n",
       "#T_cc4c6_row2_col0 {\n",
       "  background-color: #ff807f;\n",
       "  color: #f1f1f1;\n",
       "}\n",
       "#T_cc4c6_row3_col0 {\n",
       "  background-color: #ffc03f;\n",
       "  color: #000000;\n",
       "}\n",
       "#T_cc4c6_row4_col0 {\n",
       "  background-color: #ffff00;\n",
       "  color: #000000;\n",
       "}\n",
       "</style>\n",
       "<table id=\"T_cc4c6\">\n",
       "  <thead>\n",
       "    <tr>\n",
       "      <th class=\"blank level0\" >&nbsp;</th>\n",
       "      <th id=\"T_cc4c6_level0_col0\" class=\"col_heading level0 col0\" >id</th>\n",
       "      <th id=\"T_cc4c6_level0_col1\" class=\"col_heading level0 col1\" >label</th>\n",
       "      <th id=\"T_cc4c6_level0_col2\" class=\"col_heading level0 col2\" >tweet</th>\n",
       "    </tr>\n",
       "  </thead>\n",
       "  <tbody>\n",
       "    <tr>\n",
       "      <th id=\"T_cc4c6_level0_row0\" class=\"row_heading level0 row0\" >0</th>\n",
       "      <td id=\"T_cc4c6_row0_col0\" class=\"data row0 col0\" >1</td>\n",
       "      <td id=\"T_cc4c6_row0_col1\" class=\"data row0 col1\" >0</td>\n",
       "      <td id=\"T_cc4c6_row0_col2\" class=\"data row0 col2\" > @user when a father is dysfunctional and is so selfish he drags his kids into his dysfunction.   #run</td>\n",
       "    </tr>\n",
       "    <tr>\n",
       "      <th id=\"T_cc4c6_level0_row1\" class=\"row_heading level0 row1\" >1</th>\n",
       "      <td id=\"T_cc4c6_row1_col0\" class=\"data row1 col0\" >2</td>\n",
       "      <td id=\"T_cc4c6_row1_col1\" class=\"data row1 col1\" >0</td>\n",
       "      <td id=\"T_cc4c6_row1_col2\" class=\"data row1 col2\" >@user @user thanks for #lyft credit i can't use cause they don't offer wheelchair vans in pdx.    #disapointed #getthanked</td>\n",
       "    </tr>\n",
       "    <tr>\n",
       "      <th id=\"T_cc4c6_level0_row2\" class=\"row_heading level0 row2\" >2</th>\n",
       "      <td id=\"T_cc4c6_row2_col0\" class=\"data row2 col0\" >3</td>\n",
       "      <td id=\"T_cc4c6_row2_col1\" class=\"data row2 col1\" >0</td>\n",
       "      <td id=\"T_cc4c6_row2_col2\" class=\"data row2 col2\" >  bihday your majesty</td>\n",
       "    </tr>\n",
       "    <tr>\n",
       "      <th id=\"T_cc4c6_level0_row3\" class=\"row_heading level0 row3\" >3</th>\n",
       "      <td id=\"T_cc4c6_row3_col0\" class=\"data row3 col0\" >4</td>\n",
       "      <td id=\"T_cc4c6_row3_col1\" class=\"data row3 col1\" >0</td>\n",
       "      <td id=\"T_cc4c6_row3_col2\" class=\"data row3 col2\" >#model   i love u take with u all the time in urð±!!! ðððð\n",
       "ð¦ð¦ð¦  </td>\n",
       "    </tr>\n",
       "    <tr>\n",
       "      <th id=\"T_cc4c6_level0_row4\" class=\"row_heading level0 row4\" >4</th>\n",
       "      <td id=\"T_cc4c6_row4_col0\" class=\"data row4 col0\" >5</td>\n",
       "      <td id=\"T_cc4c6_row4_col1\" class=\"data row4 col1\" >0</td>\n",
       "      <td id=\"T_cc4c6_row4_col2\" class=\"data row4 col2\" > factsguide: society now    #motivation</td>\n",
       "    </tr>\n",
       "  </tbody>\n",
       "</table>\n"
      ],
      "text/plain": [
       "<pandas.io.formats.style.Styler at 0x1d0181b6df0>"
      ]
     },
     "execution_count": 4,
     "metadata": {},
     "output_type": "execute_result"
    }
   ],
   "source": [
    "train.head(n = 5).style.background_gradient(cmap = \"spring\")"
   ]
  },
  {
   "cell_type": "code",
   "execution_count": 5,
   "id": "b3328b62",
   "metadata": {},
   "outputs": [
    {
     "data": {
      "text/html": [
       "<style type=\"text/css\">\n",
       "#T_aabfb_row0_col0 {\n",
       "  background-color: #ff00ff;\n",
       "  color: #f1f1f1;\n",
       "}\n",
       "#T_aabfb_row1_col0 {\n",
       "  background-color: #ff40bf;\n",
       "  color: #f1f1f1;\n",
       "}\n",
       "#T_aabfb_row2_col0 {\n",
       "  background-color: #ff807f;\n",
       "  color: #f1f1f1;\n",
       "}\n",
       "#T_aabfb_row3_col0 {\n",
       "  background-color: #ffc03f;\n",
       "  color: #000000;\n",
       "}\n",
       "#T_aabfb_row4_col0 {\n",
       "  background-color: #ffff00;\n",
       "  color: #000000;\n",
       "}\n",
       "</style>\n",
       "<table id=\"T_aabfb\">\n",
       "  <thead>\n",
       "    <tr>\n",
       "      <th class=\"blank level0\" >&nbsp;</th>\n",
       "      <th id=\"T_aabfb_level0_col0\" class=\"col_heading level0 col0\" >id</th>\n",
       "      <th id=\"T_aabfb_level0_col1\" class=\"col_heading level0 col1\" >tweet</th>\n",
       "    </tr>\n",
       "  </thead>\n",
       "  <tbody>\n",
       "    <tr>\n",
       "      <th id=\"T_aabfb_level0_row0\" class=\"row_heading level0 row0\" >0</th>\n",
       "      <td id=\"T_aabfb_row0_col0\" class=\"data row0 col0\" >31963</td>\n",
       "      <td id=\"T_aabfb_row0_col1\" class=\"data row0 col1\" >#studiolife #aislife #requires #passion #dedication #willpower   to find #newmaterialsâ¦ </td>\n",
       "    </tr>\n",
       "    <tr>\n",
       "      <th id=\"T_aabfb_level0_row1\" class=\"row_heading level0 row1\" >1</th>\n",
       "      <td id=\"T_aabfb_row1_col0\" class=\"data row1 col0\" >31964</td>\n",
       "      <td id=\"T_aabfb_row1_col1\" class=\"data row1 col1\" > @user #white #supremacists want everyone to see the new â  #birdsâ #movie â and hereâs why  </td>\n",
       "    </tr>\n",
       "    <tr>\n",
       "      <th id=\"T_aabfb_level0_row2\" class=\"row_heading level0 row2\" >2</th>\n",
       "      <td id=\"T_aabfb_row2_col0\" class=\"data row2 col0\" >31965</td>\n",
       "      <td id=\"T_aabfb_row2_col1\" class=\"data row2 col1\" >safe ways to heal your #acne!!    #altwaystoheal #healthy   #healing!! </td>\n",
       "    </tr>\n",
       "    <tr>\n",
       "      <th id=\"T_aabfb_level0_row3\" class=\"row_heading level0 row3\" >3</th>\n",
       "      <td id=\"T_aabfb_row3_col0\" class=\"data row3 col0\" >31966</td>\n",
       "      <td id=\"T_aabfb_row3_col1\" class=\"data row3 col1\" >is the hp and the cursed child book up for reservations already? if yes, where? if no, when? ððð   #harrypotter #pottermore #favorite</td>\n",
       "    </tr>\n",
       "    <tr>\n",
       "      <th id=\"T_aabfb_level0_row4\" class=\"row_heading level0 row4\" >4</th>\n",
       "      <td id=\"T_aabfb_row4_col0\" class=\"data row4 col0\" >31967</td>\n",
       "      <td id=\"T_aabfb_row4_col1\" class=\"data row4 col1\" >  3rd #bihday to my amazing, hilarious #nephew eli ahmir! uncle dave loves you and missesâ¦ </td>\n",
       "    </tr>\n",
       "  </tbody>\n",
       "</table>\n"
      ],
      "text/plain": [
       "<pandas.io.formats.style.Styler at 0x1d018713580>"
      ]
     },
     "execution_count": 5,
     "metadata": {},
     "output_type": "execute_result"
    }
   ],
   "source": [
    "#The first five rows of test set\n",
    "test.head(n = 5).style.background_gradient(cmap = \"spring\")"
   ]
  },
  {
   "cell_type": "code",
   "execution_count": 6,
   "id": "c6465c5c",
   "metadata": {},
   "outputs": [
    {
     "name": "stdout",
     "output_type": "stream",
     "text": [
      "Train set shape: (31962, 3) and test set shape: (17197, 2)\n"
     ]
    }
   ],
   "source": [
    "print(\"Train set shape: {} and test set shape: {}\".format(train.shape, test.shape))"
   ]
  },
  {
   "cell_type": "code",
   "execution_count": 7,
   "id": "c6c6b017",
   "metadata": {},
   "outputs": [
    {
     "name": "stdout",
     "output_type": "stream",
     "text": [
      "<class 'pandas.core.frame.DataFrame'>\n",
      "RangeIndex: 31962 entries, 0 to 31961\n",
      "Data columns (total 3 columns):\n",
      " #   Column  Non-Null Count  Dtype \n",
      "---  ------  --------------  ----- \n",
      " 0   id      31962 non-null  int64 \n",
      " 1   label   31962 non-null  int64 \n",
      " 2   tweet   31962 non-null  object\n",
      "dtypes: int64(2), object(1)\n",
      "memory usage: 749.2+ KB\n"
     ]
    }
   ],
   "source": [
    "train.info()"
   ]
  },
  {
   "cell_type": "code",
   "execution_count": 8,
   "id": "d0b03ae5",
   "metadata": {},
   "outputs": [
    {
     "name": "stdout",
     "output_type": "stream",
     "text": [
      "Totally there are 0 duplicated values in train_set\n"
     ]
    }
   ],
   "source": [
    "#Check whether there are duplicated value!!!!\n",
    "print(\"Totally there are {} duplicated values in train_set\".format(train.duplicated().sum()))"
   ]
  },
  {
   "cell_type": "code",
   "execution_count": 9,
   "id": "7f3a5993",
   "metadata": {},
   "outputs": [
    {
     "data": {
      "text/html": [
       "<style type=\"text/css\">\n",
       "#T_fc49b_row0_col0, #T_fc49b_row0_col1 {\n",
       "  background-color: #ffff00;\n",
       "  color: #000000;\n",
       "}\n",
       "#T_fc49b_row1_col0, #T_fc49b_row1_col1 {\n",
       "  background-color: #ff00ff;\n",
       "  color: #f1f1f1;\n",
       "}\n",
       "</style>\n",
       "<table id=\"T_fc49b\">\n",
       "  <thead>\n",
       "    <tr>\n",
       "      <th class=\"blank level0\" >&nbsp;</th>\n",
       "      <th id=\"T_fc49b_level0_col0\" class=\"col_heading level0 col0\" >id</th>\n",
       "      <th id=\"T_fc49b_level0_col1\" class=\"col_heading level0 col1\" >tweet</th>\n",
       "    </tr>\n",
       "    <tr>\n",
       "      <th class=\"index_name level0\" >label</th>\n",
       "      <th class=\"blank col0\" >&nbsp;</th>\n",
       "      <th class=\"blank col1\" >&nbsp;</th>\n",
       "    </tr>\n",
       "  </thead>\n",
       "  <tbody>\n",
       "    <tr>\n",
       "      <th id=\"T_fc49b_level0_row0\" class=\"row_heading level0 row0\" >0</th>\n",
       "      <td id=\"T_fc49b_row0_col0\" class=\"data row0 col0\" >29720</td>\n",
       "      <td id=\"T_fc49b_row0_col1\" class=\"data row0 col1\" >29720</td>\n",
       "    </tr>\n",
       "    <tr>\n",
       "      <th id=\"T_fc49b_level0_row1\" class=\"row_heading level0 row1\" >1</th>\n",
       "      <td id=\"T_fc49b_row1_col0\" class=\"data row1 col0\" >2242</td>\n",
       "      <td id=\"T_fc49b_row1_col1\" class=\"data row1 col1\" >2242</td>\n",
       "    </tr>\n",
       "  </tbody>\n",
       "</table>\n"
      ],
      "text/plain": [
       "<pandas.io.formats.style.Styler at 0x1d01871e5b0>"
      ]
     },
     "execution_count": 9,
     "metadata": {},
     "output_type": "execute_result"
    }
   ],
   "source": [
    "train.groupby(\"label\").count().style.background_gradient(cmap = \"spring\")"
   ]
  },
  {
   "cell_type": "code",
   "execution_count": 10,
   "id": "5d0ce3b8",
   "metadata": {},
   "outputs": [
    {
     "data": {
      "text/plain": [
       "0    29720\n",
       "1     2242\n",
       "Name: label, dtype: int64"
      ]
     },
     "execution_count": 10,
     "metadata": {},
     "output_type": "execute_result"
    }
   ],
   "source": [
    "train['label'].value_counts()"
   ]
  },
  {
   "cell_type": "code",
   "execution_count": 11,
   "id": "4f1434a7",
   "metadata": {},
   "outputs": [
    {
     "name": "stdout",
     "output_type": "stream",
     "text": [
      "Checking for null values in data....... \n",
      "id       False\n",
      "label    False\n",
      "tweet    False\n",
      "dtype: bool\n"
     ]
    }
   ],
   "source": [
    "print(f'Checking for null values in data....... \\n{train.isnull().any()}')"
   ]
  },
  {
   "cell_type": "code",
   "execution_count": 12,
   "id": "358d0f46",
   "metadata": {},
   "outputs": [
    {
     "name": "stdout",
     "output_type": "stream",
     "text": [
      "Percentage of Negative Sentiment tweets is 92.98542018647143\n",
      "Percentage of Postitive Sentiment tweets is 7.014579813528565\n",
      "\n",
      "Clearly, The data is heavily Imbalanced\n"
     ]
    }
   ],
   "source": [
    "pos = 100*len(train.loc[train['label']==0,'label'])/len(train['label'])\n",
    "neg = 100*len(train.loc[train['label']==1,'label'])/len(train['label'])\n",
    "print(f'Percentage of Negative Sentiment tweets is {pos}')\n",
    "print(f'Percentage of Postitive Sentiment tweets is {neg}')\n",
    "print('\\nClearly, The data is heavily Imbalanced')"
   ]
  },
  {
   "cell_type": "code",
   "execution_count": 13,
   "id": "65822c50",
   "metadata": {},
   "outputs": [
    {
     "data": {
      "text/html": [
       "<div>\n",
       "<style scoped>\n",
       "    .dataframe tbody tr th:only-of-type {\n",
       "        vertical-align: middle;\n",
       "    }\n",
       "\n",
       "    .dataframe tbody tr th {\n",
       "        vertical-align: top;\n",
       "    }\n",
       "\n",
       "    .dataframe thead th {\n",
       "        text-align: right;\n",
       "    }\n",
       "</style>\n",
       "<table border=\"1\" class=\"dataframe\">\n",
       "  <thead>\n",
       "    <tr style=\"text-align: right;\">\n",
       "      <th></th>\n",
       "      <th>id</th>\n",
       "      <th>label</th>\n",
       "      <th>tweet</th>\n",
       "    </tr>\n",
       "  </thead>\n",
       "  <tbody>\n",
       "    <tr>\n",
       "      <th>0</th>\n",
       "      <td>1</td>\n",
       "      <td>0</td>\n",
       "      <td>@user when a father is dysfunctional and is s...</td>\n",
       "    </tr>\n",
       "    <tr>\n",
       "      <th>1</th>\n",
       "      <td>2</td>\n",
       "      <td>0</td>\n",
       "      <td>@user @user thanks for #lyft credit i can't us...</td>\n",
       "    </tr>\n",
       "    <tr>\n",
       "      <th>2</th>\n",
       "      <td>3</td>\n",
       "      <td>0</td>\n",
       "      <td>bihday your majesty</td>\n",
       "    </tr>\n",
       "    <tr>\n",
       "      <th>3</th>\n",
       "      <td>4</td>\n",
       "      <td>0</td>\n",
       "      <td>#model   i love u take with u all the time in ...</td>\n",
       "    </tr>\n",
       "    <tr>\n",
       "      <th>4</th>\n",
       "      <td>5</td>\n",
       "      <td>0</td>\n",
       "      <td>factsguide: society now    #motivation</td>\n",
       "    </tr>\n",
       "    <tr>\n",
       "      <th>5</th>\n",
       "      <td>6</td>\n",
       "      <td>0</td>\n",
       "      <td>[2/2] huge fan fare and big talking before the...</td>\n",
       "    </tr>\n",
       "    <tr>\n",
       "      <th>6</th>\n",
       "      <td>7</td>\n",
       "      <td>0</td>\n",
       "      <td>@user camping tomorrow @user @user @user @use...</td>\n",
       "    </tr>\n",
       "    <tr>\n",
       "      <th>7</th>\n",
       "      <td>8</td>\n",
       "      <td>0</td>\n",
       "      <td>the next school year is the year for exams.ð...</td>\n",
       "    </tr>\n",
       "    <tr>\n",
       "      <th>8</th>\n",
       "      <td>9</td>\n",
       "      <td>0</td>\n",
       "      <td>we won!!! love the land!!! #allin #cavs #champ...</td>\n",
       "    </tr>\n",
       "    <tr>\n",
       "      <th>9</th>\n",
       "      <td>10</td>\n",
       "      <td>0</td>\n",
       "      <td>@user @user welcome here !  i'm   it's so #gr...</td>\n",
       "    </tr>\n",
       "    <tr>\n",
       "      <th>10</th>\n",
       "      <td>11</td>\n",
       "      <td>0</td>\n",
       "      <td>â #ireland consumer price index (mom) climb...</td>\n",
       "    </tr>\n",
       "    <tr>\n",
       "      <th>11</th>\n",
       "      <td>12</td>\n",
       "      <td>0</td>\n",
       "      <td>we are so selfish. #orlando #standwithorlando ...</td>\n",
       "    </tr>\n",
       "    <tr>\n",
       "      <th>12</th>\n",
       "      <td>13</td>\n",
       "      <td>0</td>\n",
       "      <td>i get to see my daddy today!!   #80days #getti...</td>\n",
       "    </tr>\n",
       "    <tr>\n",
       "      <th>15</th>\n",
       "      <td>16</td>\n",
       "      <td>0</td>\n",
       "      <td>ouch...junior is angryð#got7 #junior #yugyo...</td>\n",
       "    </tr>\n",
       "    <tr>\n",
       "      <th>16</th>\n",
       "      <td>17</td>\n",
       "      <td>0</td>\n",
       "      <td>i am thankful for having a paner. #thankful #p...</td>\n",
       "    </tr>\n",
       "    <tr>\n",
       "      <th>18</th>\n",
       "      <td>19</td>\n",
       "      <td>0</td>\n",
       "      <td>its #friday! ð smiles all around via ig use...</td>\n",
       "    </tr>\n",
       "    <tr>\n",
       "      <th>19</th>\n",
       "      <td>20</td>\n",
       "      <td>0</td>\n",
       "      <td>as we all know, essential oils are not made of...</td>\n",
       "    </tr>\n",
       "    <tr>\n",
       "      <th>20</th>\n",
       "      <td>21</td>\n",
       "      <td>0</td>\n",
       "      <td>#euro2016 people blaming ha for conceded goal ...</td>\n",
       "    </tr>\n",
       "    <tr>\n",
       "      <th>21</th>\n",
       "      <td>22</td>\n",
       "      <td>0</td>\n",
       "      <td>sad little dude..   #badday #coneofshame #cats...</td>\n",
       "    </tr>\n",
       "    <tr>\n",
       "      <th>22</th>\n",
       "      <td>23</td>\n",
       "      <td>0</td>\n",
       "      <td>product of the day: happy man #wine tool  who'...</td>\n",
       "    </tr>\n",
       "  </tbody>\n",
       "</table>\n",
       "</div>"
      ],
      "text/plain": [
       "    id  label                                              tweet\n",
       "0    1      0   @user when a father is dysfunctional and is s...\n",
       "1    2      0  @user @user thanks for #lyft credit i can't us...\n",
       "2    3      0                                bihday your majesty\n",
       "3    4      0  #model   i love u take with u all the time in ...\n",
       "4    5      0             factsguide: society now    #motivation\n",
       "5    6      0  [2/2] huge fan fare and big talking before the...\n",
       "6    7      0   @user camping tomorrow @user @user @user @use...\n",
       "7    8      0  the next school year is the year for exams.ð...\n",
       "8    9      0  we won!!! love the land!!! #allin #cavs #champ...\n",
       "9   10      0   @user @user welcome here !  i'm   it's so #gr...\n",
       "10  11      0   â #ireland consumer price index (mom) climb...\n",
       "11  12      0  we are so selfish. #orlando #standwithorlando ...\n",
       "12  13      0  i get to see my daddy today!!   #80days #getti...\n",
       "15  16      0  ouch...junior is angryð#got7 #junior #yugyo...\n",
       "16  17      0  i am thankful for having a paner. #thankful #p...\n",
       "18  19      0  its #friday! ð smiles all around via ig use...\n",
       "19  20      0  as we all know, essential oils are not made of...\n",
       "20  21      0  #euro2016 people blaming ha for conceded goal ...\n",
       "21  22      0  sad little dude..   #badday #coneofshame #cats...\n",
       "22  23      0  product of the day: happy man #wine tool  who'..."
      ]
     },
     "execution_count": 13,
     "metadata": {},
     "output_type": "execute_result"
    }
   ],
   "source": [
    "# Understanding the sentiments in the data #\n",
    "train[train['label']==0].head(20) \n",
    "# Class 0 : shows the list of positive sentiments"
   ]
  },
  {
   "cell_type": "code",
   "execution_count": 14,
   "id": "9c441fca",
   "metadata": {},
   "outputs": [
    {
     "data": {
      "text/html": [
       "<div>\n",
       "<style scoped>\n",
       "    .dataframe tbody tr th:only-of-type {\n",
       "        vertical-align: middle;\n",
       "    }\n",
       "\n",
       "    .dataframe tbody tr th {\n",
       "        vertical-align: top;\n",
       "    }\n",
       "\n",
       "    .dataframe thead th {\n",
       "        text-align: right;\n",
       "    }\n",
       "</style>\n",
       "<table border=\"1\" class=\"dataframe\">\n",
       "  <thead>\n",
       "    <tr style=\"text-align: right;\">\n",
       "      <th></th>\n",
       "      <th>id</th>\n",
       "      <th>label</th>\n",
       "      <th>tweet</th>\n",
       "    </tr>\n",
       "  </thead>\n",
       "  <tbody>\n",
       "    <tr>\n",
       "      <th>13</th>\n",
       "      <td>14</td>\n",
       "      <td>1</td>\n",
       "      <td>@user #cnn calls #michigan middle school 'buil...</td>\n",
       "    </tr>\n",
       "    <tr>\n",
       "      <th>14</th>\n",
       "      <td>15</td>\n",
       "      <td>1</td>\n",
       "      <td>no comment!  in #australia   #opkillingbay #se...</td>\n",
       "    </tr>\n",
       "    <tr>\n",
       "      <th>17</th>\n",
       "      <td>18</td>\n",
       "      <td>1</td>\n",
       "      <td>retweet if you agree!</td>\n",
       "    </tr>\n",
       "    <tr>\n",
       "      <th>23</th>\n",
       "      <td>24</td>\n",
       "      <td>1</td>\n",
       "      <td>@user @user lumpy says i am a . prove it lumpy.</td>\n",
       "    </tr>\n",
       "    <tr>\n",
       "      <th>34</th>\n",
       "      <td>35</td>\n",
       "      <td>1</td>\n",
       "      <td>it's unbelievable that in the 21st century we'...</td>\n",
       "    </tr>\n",
       "    <tr>\n",
       "      <th>56</th>\n",
       "      <td>57</td>\n",
       "      <td>1</td>\n",
       "      <td>@user lets fight against  #love #peace</td>\n",
       "    </tr>\n",
       "    <tr>\n",
       "      <th>68</th>\n",
       "      <td>69</td>\n",
       "      <td>1</td>\n",
       "      <td>ð©the white establishment can't have blk fol...</td>\n",
       "    </tr>\n",
       "    <tr>\n",
       "      <th>77</th>\n",
       "      <td>78</td>\n",
       "      <td>1</td>\n",
       "      <td>@user hey, white people: you can call people '...</td>\n",
       "    </tr>\n",
       "    <tr>\n",
       "      <th>82</th>\n",
       "      <td>83</td>\n",
       "      <td>1</td>\n",
       "      <td>how the #altright uses  &amp;amp; insecurity to lu...</td>\n",
       "    </tr>\n",
       "    <tr>\n",
       "      <th>111</th>\n",
       "      <td>112</td>\n",
       "      <td>1</td>\n",
       "      <td>@user i'm not interested in a #linguistics tha...</td>\n",
       "    </tr>\n",
       "    <tr>\n",
       "      <th>114</th>\n",
       "      <td>115</td>\n",
       "      <td>1</td>\n",
       "      <td>@user why not @user mocked obama for being bla...</td>\n",
       "    </tr>\n",
       "    <tr>\n",
       "      <th>131</th>\n",
       "      <td>132</td>\n",
       "      <td>1</td>\n",
       "      <td>#people aren't protesting #trump because a #re...</td>\n",
       "    </tr>\n",
       "    <tr>\n",
       "      <th>151</th>\n",
       "      <td>152</td>\n",
       "      <td>1</td>\n",
       "      <td>yes it's  when you call #michelleobama a goril...</td>\n",
       "    </tr>\n",
       "    <tr>\n",
       "      <th>156</th>\n",
       "      <td>157</td>\n",
       "      <td>1</td>\n",
       "      <td>as the smaller hands show, barry probably lied...</td>\n",
       "    </tr>\n",
       "    <tr>\n",
       "      <th>167</th>\n",
       "      <td>168</td>\n",
       "      <td>1</td>\n",
       "      <td>@user @user you point one finger @user million...</td>\n",
       "    </tr>\n",
       "    <tr>\n",
       "      <th>192</th>\n",
       "      <td>193</td>\n",
       "      <td>1</td>\n",
       "      <td>you might be a libtard if... #libtard  #sjw #l...</td>\n",
       "    </tr>\n",
       "    <tr>\n",
       "      <th>210</th>\n",
       "      <td>211</td>\n",
       "      <td>1</td>\n",
       "      <td>@user take out the #trash america...  - i vote...</td>\n",
       "    </tr>\n",
       "    <tr>\n",
       "      <th>232</th>\n",
       "      <td>233</td>\n",
       "      <td>1</td>\n",
       "      <td>if you hold open a door for a woman because sh...</td>\n",
       "    </tr>\n",
       "    <tr>\n",
       "      <th>263</th>\n",
       "      <td>264</td>\n",
       "      <td>1</td>\n",
       "      <td>@user this man ran for governor of ny, the sta...</td>\n",
       "    </tr>\n",
       "    <tr>\n",
       "      <th>264</th>\n",
       "      <td>265</td>\n",
       "      <td>1</td>\n",
       "      <td>#stereotyping #prejudice  offer no #hope or so...</td>\n",
       "    </tr>\n",
       "  </tbody>\n",
       "</table>\n",
       "</div>"
      ],
      "text/plain": [
       "      id  label                                              tweet\n",
       "13    14      1  @user #cnn calls #michigan middle school 'buil...\n",
       "14    15      1  no comment!  in #australia   #opkillingbay #se...\n",
       "17    18      1                             retweet if you agree! \n",
       "23    24      1    @user @user lumpy says i am a . prove it lumpy.\n",
       "34    35      1  it's unbelievable that in the 21st century we'...\n",
       "56    57      1            @user lets fight against  #love #peace \n",
       "68    69      1  ð©the white establishment can't have blk fol...\n",
       "77    78      1  @user hey, white people: you can call people '...\n",
       "82    83      1  how the #altright uses  &amp; insecurity to lu...\n",
       "111  112      1  @user i'm not interested in a #linguistics tha...\n",
       "114  115      1  @user why not @user mocked obama for being bla...\n",
       "131  132      1  #people aren't protesting #trump because a #re...\n",
       "151  152      1  yes it's  when you call #michelleobama a goril...\n",
       "156  157      1  as the smaller hands show, barry probably lied...\n",
       "167  168      1  @user @user you point one finger @user million...\n",
       "192  193      1  you might be a libtard if... #libtard  #sjw #l...\n",
       "210  211      1  @user take out the #trash america...  - i vote...\n",
       "232  233      1  if you hold open a door for a woman because sh...\n",
       "263  264      1  @user this man ran for governor of ny, the sta...\n",
       "264  265      1  #stereotyping #prejudice  offer no #hope or so..."
      ]
     },
     "execution_count": 14,
     "metadata": {},
     "output_type": "execute_result"
    }
   ],
   "source": [
    "# Understanding the sentiments in the data #\n",
    "train[train['label']==1].head(20) \n",
    "# Class 1  : Negative sentiments of the user "
   ]
  },
  {
   "cell_type": "code",
   "execution_count": 15,
   "id": "87d9b674",
   "metadata": {},
   "outputs": [
    {
     "name": "stdout",
     "output_type": "stream",
     "text": [
      "train data length : 0        102\n",
      "1        122\n",
      "2         21\n",
      "3         86\n",
      "4         39\n",
      "        ... \n",
      "31957     68\n",
      "31958    131\n",
      "31959     63\n",
      "31960     67\n",
      "31961     32\n",
      "Name: tweet, Length: 31962, dtype: int64\n",
      "test data length : 0         90\n",
      "1        101\n",
      "2         71\n",
      "3        142\n",
      "4         93\n",
      "        ... \n",
      "17192    108\n",
      "17193     96\n",
      "17194    145\n",
      "17195    104\n",
      "17196     64\n",
      "Name: tweet, Length: 17197, dtype: int64\n"
     ]
    }
   ],
   "source": [
    "train_len = train['tweet'].str.len()\n",
    "test_len = test['tweet'].str.len()\n",
    "print(\"train data length :\" , train_len)\n",
    "print(\"test data length :\" , test_len)"
   ]
  },
  {
   "cell_type": "code",
   "execution_count": 16,
   "id": "73818c7d",
   "metadata": {},
   "outputs": [
    {
     "data": {
      "image/png": "[encoded data removed]",
      "text/plain": [
       "<Figure size 640x480 with 1 Axes>"
      ]
     },
     "metadata": {},
     "output_type": "display_data"
    }
   ],
   "source": [
    "sns.countplot(x= train['label'],data = train)\n",
    "plt.title(' Non Rasict/Sexist =0    Rasict/Sexist=1')\n",
    "plt.xlabel('Tweets')\n",
    "plt.ylabel(\"frequency\")\n",
    "plt.show()"
   ]
  },
  {
   "cell_type": "code",
   "execution_count": 17,
   "id": "01018e34",
   "metadata": {},
   "outputs": [
    {
     "name": "stdout",
     "output_type": "stream",
     "text": [
      "[[ 51  28   2 ... 272   1   2]]\n"
     ]
    }
   ],
   "source": [
    "c=CountVectorizer(stop_words='english')\n",
    "word=c.fit_transform(train.tweet)\n",
    "summation=word.sum(axis=0)\n",
    "print(summation)"
   ]
  },
  {
   "cell_type": "code",
   "execution_count": 18,
   "id": "b7fb5f6f",
   "metadata": {},
   "outputs": [
    {
     "name": "stdout",
     "output_type": "stream",
     "text": [
      "           word   freq\n",
      "0          user  17577\n",
      "1          love   2749\n",
      "2           day   2311\n",
      "3           amp   1776\n",
      "4         happy   1686\n",
      "...         ...    ...\n",
      "41099       isz      1\n",
      "41100  airwaves      1\n",
      "41101    mantle      1\n",
      "41102   shirley      1\n",
      "41103   chisolm      1\n",
      "\n",
      "[41104 rows x 2 columns]\n"
     ]
    }
   ],
   "source": [
    "freq=[(word,summation[0,i]) for word,i in c.vocabulary_.items()]\n",
    "freq=sorted(freq,key=lambda x:x[1],reverse=True)\n",
    "frequency = pd.DataFrame(freq, columns=['word', 'freq'])\n",
    "print(frequency)"
   ]
  },
  {
   "cell_type": "code",
   "execution_count": 19,
   "id": "d2f3e588",
   "metadata": {},
   "outputs": [
    {
     "data": {
      "image/png": "[encoded data removed]",
      "text/plain": [
       "<Figure size 640x480 with 1 Axes>"
      ]
     },
     "metadata": {},
     "output_type": "display_data"
    }
   ],
   "source": [
    "sns.barplot(frequency.head(20)['word'],frequency.head(20)['freq'])\n",
    "plt.xticks(rotation='vertical')\n",
    "plt.show()"
   ]
  },
  {
   "cell_type": "code",
   "execution_count": 20,
   "id": "2dd474d0",
   "metadata": {},
   "outputs": [
    {
     "data": {
      "text/plain": [
       "id       0\n",
       "label    0\n",
       "tweet    0\n",
       "dtype: int64"
      ]
     },
     "execution_count": 20,
     "metadata": {},
     "output_type": "execute_result"
    }
   ],
   "source": [
    "train.isnull().sum()"
   ]
  },
  {
   "cell_type": "markdown",
   "id": "5b7f902b",
   "metadata": {},
   "source": [
    "Count number of words"
   ]
  },
  {
   "cell_type": "code",
   "execution_count": 21,
   "id": "f227477e",
   "metadata": {},
   "outputs": [],
   "source": [
    "#Count number of words\n",
    "def num_of_words(df):\n",
    "    df['word_count'] = df['tweet'].apply(lambda x : len(str(x).split(\" \")))\n",
    "    print(df[['tweet','word_count']].head())"
   ]
  },
  {
   "cell_type": "code",
   "execution_count": 22,
   "id": "87dfe479",
   "metadata": {},
   "outputs": [
    {
     "name": "stdout",
     "output_type": "stream",
     "text": [
      "                                               tweet  word_count\n",
      "0   @user when a father is dysfunctional and is s...          21\n",
      "1  @user @user thanks for #lyft credit i can't us...          22\n",
      "2                                bihday your majesty           5\n",
      "3  #model   i love u take with u all the time in ...          17\n",
      "4             factsguide: society now    #motivation           8\n"
     ]
    }
   ],
   "source": [
    "num_of_words(train)"
   ]
  },
  {
   "cell_type": "code",
   "execution_count": 23,
   "id": "71d2bb6d",
   "metadata": {},
   "outputs": [
    {
     "name": "stdout",
     "output_type": "stream",
     "text": [
      "                                               tweet  word_count\n",
      "0  #studiolife #aislife #requires #passion #dedic...          12\n",
      "1   @user #white #supremacists want everyone to s...          20\n",
      "2  safe ways to heal your #acne!!    #altwaystohe...          15\n",
      "3  is the hp and the cursed child book up for res...          24\n",
      "4    3rd #bihday to my amazing, hilarious #nephew...          18\n"
     ]
    }
   ],
   "source": [
    "num_of_words(test)"
   ]
  },
  {
   "cell_type": "markdown",
   "id": "687ae0d2",
   "metadata": {},
   "source": [
    "average word length"
   ]
  },
  {
   "cell_type": "code",
   "execution_count": 24,
   "id": "ebf7b2a9",
   "metadata": {},
   "outputs": [],
   "source": [
    "def avg_word(sentence):\n",
    "    words = sentence.split()    \n",
    "    return (sum(len(word) for word in words)/len(words))"
   ]
  },
  {
   "cell_type": "code",
   "execution_count": 25,
   "id": "37c70462",
   "metadata": {},
   "outputs": [],
   "source": [
    "def avg_word_length(df):\n",
    "    df['avg_word'] = df['tweet'].apply(lambda x: avg_word(x))\n",
    "    print(df[['tweet','avg_word']].head())"
   ]
  },
  {
   "cell_type": "code",
   "execution_count": 26,
   "id": "21985b59",
   "metadata": {},
   "outputs": [
    {
     "name": "stdout",
     "output_type": "stream",
     "text": [
      "                                               tweet  avg_word\n",
      "0   @user when a father is dysfunctional and is s...  4.555556\n",
      "1  @user @user thanks for #lyft credit i can't us...  5.315789\n",
      "2                                bihday your majesty  5.666667\n",
      "3  #model   i love u take with u all the time in ...  4.928571\n",
      "4             factsguide: society now    #motivation  8.000000\n"
     ]
    }
   ],
   "source": [
    "avg_word_length(train)"
   ]
  },
  {
   "cell_type": "code",
   "execution_count": 27,
   "id": "3de8bc52",
   "metadata": {},
   "outputs": [
    {
     "name": "stdout",
     "output_type": "stream",
     "text": [
      "                                               tweet  avg_word\n",
      "0  #studiolife #aislife #requires #passion #dedic...  8.777778\n",
      "1   @user #white #supremacists want everyone to s...  5.125000\n",
      "2  safe ways to heal your #acne!!    #altwaystohe...  6.333333\n",
      "3  is the hp and the cursed child book up for res...  5.409091\n",
      "4    3rd #bihday to my amazing, hilarious #nephew...  5.066667\n"
     ]
    }
   ],
   "source": [
    "avg_word_length(test)"
   ]
  },
  {
   "cell_type": "code",
   "execution_count": 28,
   "id": "1c9636ee",
   "metadata": {},
   "outputs": [
    {
     "data": {
      "text/plain": [
       "{'a',\n",
       " 'about',\n",
       " 'above',\n",
       " 'after',\n",
       " 'again',\n",
       " 'against',\n",
       " 'ain',\n",
       " 'all',\n",
       " 'am',\n",
       " 'an',\n",
       " 'and',\n",
       " 'any',\n",
       " 'are',\n",
       " 'aren',\n",
       " \"aren't\",\n",
       " 'as',\n",
       " 'at',\n",
       " 'be',\n",
       " 'because',\n",
       " 'been',\n",
       " 'before',\n",
       " 'being',\n",
       " 'below',\n",
       " 'between',\n",
       " 'both',\n",
       " 'but',\n",
       " 'by',\n",
       " 'can',\n",
       " 'couldn',\n",
       " \"couldn't\",\n",
       " 'd',\n",
       " 'did',\n",
       " 'didn',\n",
       " \"didn't\",\n",
       " 'do',\n",
       " 'does',\n",
       " 'doesn',\n",
       " \"doesn't\",\n",
       " 'doing',\n",
       " 'don',\n",
       " \"don't\",\n",
       " 'down',\n",
       " 'during',\n",
       " 'each',\n",
       " 'few',\n",
       " 'for',\n",
       " 'from',\n",
       " 'further',\n",
       " 'had',\n",
       " 'hadn',\n",
       " \"hadn't\",\n",
       " 'has',\n",
       " 'hasn',\n",
       " \"hasn't\",\n",
       " 'have',\n",
       " 'haven',\n",
       " \"haven't\",\n",
       " 'having',\n",
       " 'he',\n",
       " 'her',\n",
       " 'here',\n",
       " 'hers',\n",
       " 'herself',\n",
       " 'him',\n",
       " 'himself',\n",
       " 'his',\n",
       " 'how',\n",
       " 'i',\n",
       " 'if',\n",
       " 'in',\n",
       " 'into',\n",
       " 'is',\n",
       " 'isn',\n",
       " \"isn't\",\n",
       " 'it',\n",
       " \"it's\",\n",
       " 'its',\n",
       " 'itself',\n",
       " 'just',\n",
       " 'll',\n",
       " 'm',\n",
       " 'ma',\n",
       " 'me',\n",
       " 'mightn',\n",
       " \"mightn't\",\n",
       " 'more',\n",
       " 'most',\n",
       " 'mustn',\n",
       " \"mustn't\",\n",
       " 'my',\n",
       " 'myself',\n",
       " 'needn',\n",
       " \"needn't\",\n",
       " 'no',\n",
       " 'nor',\n",
       " 'not',\n",
       " 'now',\n",
       " 'o',\n",
       " 'of',\n",
       " 'off',\n",
       " 'on',\n",
       " 'once',\n",
       " 'only',\n",
       " 'or',\n",
       " 'other',\n",
       " 'our',\n",
       " 'ours',\n",
       " 'ourselves',\n",
       " 'out',\n",
       " 'over',\n",
       " 'own',\n",
       " 're',\n",
       " 's',\n",
       " 'same',\n",
       " 'shan',\n",
       " \"shan't\",\n",
       " 'she',\n",
       " \"she's\",\n",
       " 'should',\n",
       " \"should've\",\n",
       " 'shouldn',\n",
       " \"shouldn't\",\n",
       " 'so',\n",
       " 'some',\n",
       " 'such',\n",
       " 't',\n",
       " 'than',\n",
       " 'that',\n",
       " \"that'll\",\n",
       " 'the',\n",
       " 'their',\n",
       " 'theirs',\n",
       " 'them',\n",
       " 'themselves',\n",
       " 'then',\n",
       " 'there',\n",
       " 'these',\n",
       " 'they',\n",
       " 'this',\n",
       " 'those',\n",
       " 'through',\n",
       " 'to',\n",
       " 'too',\n",
       " 'under',\n",
       " 'until',\n",
       " 'up',\n",
       " 've',\n",
       " 'very',\n",
       " 'was',\n",
       " 'wasn',\n",
       " \"wasn't\",\n",
       " 'we',\n",
       " 'were',\n",
       " 'weren',\n",
       " \"weren't\",\n",
       " 'what',\n",
       " 'when',\n",
       " 'where',\n",
       " 'which',\n",
       " 'while',\n",
       " 'who',\n",
       " 'whom',\n",
       " 'why',\n",
       " 'will',\n",
       " 'with',\n",
       " 'won',\n",
       " \"won't\",\n",
       " 'wouldn',\n",
       " \"wouldn't\",\n",
       " 'y',\n",
       " 'you',\n",
       " \"you'd\",\n",
       " \"you'll\",\n",
       " \"you're\",\n",
       " \"you've\",\n",
       " 'your',\n",
       " 'yours',\n",
       " 'yourself',\n",
       " 'yourselves'}"
      ]
     },
     "execution_count": 28,
     "metadata": {},
     "output_type": "execute_result"
    }
   ],
   "source": [
    "stop=set(stopwords.words('english'))\n",
    "stop"
   ]
  },
  {
   "cell_type": "code",
   "execution_count": 29,
   "id": "f914cd0d",
   "metadata": {},
   "outputs": [],
   "source": [
    "def stop_words(df):\n",
    "    df['stopwords'] = df['tweet'].apply(lambda x: len([x for x in x.split() if x in stop]))\n",
    "    print(df[['tweet','stopwords']].head())"
   ]
  },
  {
   "cell_type": "code",
   "execution_count": 30,
   "id": "9a50f204",
   "metadata": {},
   "outputs": [
    {
     "name": "stdout",
     "output_type": "stream",
     "text": [
      "                                               tweet  stopwords\n",
      "0  #studiolife #aislife #requires #passion #dedic...          1\n",
      "1   @user #white #supremacists want everyone to s...          4\n",
      "2  safe ways to heal your #acne!!    #altwaystohe...          2\n",
      "3  is the hp and the cursed child book up for res...          8\n",
      "4    3rd #bihday to my amazing, hilarious #nephew...          4\n"
     ]
    }
   ],
   "source": [
    "stop_words(test)"
   ]
  },
  {
   "cell_type": "code",
   "execution_count": 31,
   "id": "7f902f08",
   "metadata": {},
   "outputs": [
    {
     "name": "stdout",
     "output_type": "stream",
     "text": [
      "                                               tweet  stopwords\n",
      "0   @user when a father is dysfunctional and is s...         10\n",
      "1  @user @user thanks for #lyft credit i can't us...          5\n",
      "2                                bihday your majesty          1\n",
      "3  #model   i love u take with u all the time in ...          5\n",
      "4             factsguide: society now    #motivation          1\n"
     ]
    }
   ],
   "source": [
    "stop_words(train)"
   ]
  },
  {
   "cell_type": "code",
   "execution_count": 32,
   "id": "c95000ea",
   "metadata": {},
   "outputs": [],
   "source": [
    "def hash_tags(df):\n",
    "    df['hashtags'] = df['tweet'].apply(lambda x: len([x for x in x.split() if x.startswith('#')]))\n",
    "    print(df[['tweet','hashtags']].head())"
   ]
  },
  {
   "cell_type": "code",
   "execution_count": 33,
   "id": "839e9fda",
   "metadata": {},
   "outputs": [
    {
     "name": "stdout",
     "output_type": "stream",
     "text": [
      "                                               tweet  hashtags\n",
      "0   @user when a father is dysfunctional and is s...         1\n",
      "1  @user @user thanks for #lyft credit i can't us...         3\n",
      "2                                bihday your majesty         0\n",
      "3  #model   i love u take with u all the time in ...         1\n",
      "4             factsguide: society now    #motivation         1\n"
     ]
    }
   ],
   "source": [
    "hash_tags(train)"
   ]
  },
  {
   "cell_type": "code",
   "execution_count": 34,
   "id": "17340b78",
   "metadata": {},
   "outputs": [
    {
     "name": "stdout",
     "output_type": "stream",
     "text": [
      "\n",
      "CONVERTED SUCCESFULLY...\n"
     ]
    }
   ],
   "source": [
    "#Convert uppercase letters to lowercase letters in \"tweet\" columns\n",
    "train[\"tweet\"] = train[\"tweet\"].apply(lambda x: \" \".join(x.lower() for x in x.split()))\n",
    "test[\"tweet\"] = test[\"tweet\"].apply(lambda x: \" \".join(x.lower() for x in x.split()))\n",
    "print(\"\\nCONVERTED SUCCESFULLY...\")"
   ]
  },
  {
   "cell_type": "code",
   "execution_count": 35,
   "id": "6acdc992",
   "metadata": {},
   "outputs": [
    {
     "name": "stdout",
     "output_type": "stream",
     "text": [
      "\n",
      "DELETED SUCCESFULLY...\n"
     ]
    }
   ],
   "source": [
    "#Delete punctuation marks from \"tweet\" columns\n",
    "train[\"tweet\"] = train[\"tweet\"].str.replace('[^\\w\\s]','')\n",
    "test[\"tweet\"] = test[\"tweet\"].str.replace('[^\\w\\s]','')\n",
    "print(\"\\nDELETED SUCCESFULLY...\",)"
   ]
  },
  {
   "cell_type": "code",
   "execution_count": 36,
   "id": "79e5490d",
   "metadata": {},
   "outputs": [
    {
     "name": "stdout",
     "output_type": "stream",
     "text": [
      "NUMBERS DELETED SUCCESFULLY...\n"
     ]
    }
   ],
   "source": [
    "#Delete numbers from \"tweet\" columns\n",
    "train['tweet'] = train['tweet'].str.replace('\\d','')\n",
    "test['tweet'] = test['tweet'].str.replace('\\d','')\n",
    "print(\"NUMBERS DELETED SUCCESFULLY...\")"
   ]
  },
  {
   "cell_type": "code",
   "execution_count": 37,
   "id": "33876456",
   "metadata": {},
   "outputs": [
    {
     "name": "stdout",
     "output_type": "stream",
     "text": [
      "\n",
      "STOPWORDS DELETED SUCCESFULLY...\n"
     ]
    }
   ],
   "source": [
    "sw = stopwords.words(\"english\")\n",
    "train['tweet'] = train['tweet'].apply(lambda x: \" \".join(x for x in x.split() if x not in sw))\n",
    "test['tweet'] = test['tweet'].apply(lambda x: \" \".join(x for x in x.split() if x not in sw))\n",
    "print(\"\\nSTOPWORDS DELETED SUCCESFULLY...\")"
   ]
  },
  {
   "cell_type": "code",
   "execution_count": 38,
   "id": "5a32bd58",
   "metadata": {},
   "outputs": [
    {
     "name": "stdout",
     "output_type": "stream",
     "text": [
      "\n",
      " 'ID' COLUMN DROPPED SUCCESFULLY...\n"
     ]
    }
   ],
   "source": [
    "train = train.drop(\"id\", axis = 1)\n",
    "test = test.drop(\"id\", axis = 1)\n",
    "print(\"\\n 'ID' COLUMN DROPPED SUCCESFULLY...\")"
   ]
  },
  {
   "cell_type": "code",
   "execution_count": 39,
   "id": "3d514465",
   "metadata": {},
   "outputs": [],
   "source": [
    "def lower_case(df):\n",
    "    df['tweet'] = df['tweet'].apply(lambda x: \" \".join(x.lower() for x in x.split()))\n",
    "    print(df['tweet'].head())"
   ]
  },
  {
   "cell_type": "code",
   "execution_count": 40,
   "id": "e0be4c68",
   "metadata": {},
   "outputs": [
    {
     "name": "stdout",
     "output_type": "stream",
     "text": [
      "0    user father dysfunctional selfish drags kids d...\n",
      "1    user user thanks lyft credit cant use cause do...\n",
      "2                                       bihday majesty\n",
      "3                model love u take u time urð ðððð ððð\n",
      "4                        factsguide society motivation\n",
      "Name: tweet, dtype: object\n"
     ]
    }
   ],
   "source": [
    "lower_case(train)"
   ]
  },
  {
   "cell_type": "code",
   "execution_count": 41,
   "id": "35688f45",
   "metadata": {},
   "outputs": [
    {
     "name": "stdout",
     "output_type": "stream",
     "text": [
      "0    studiolife aislife requires passion dedication...\n",
      "1    user white supremacists want everyone see new ...\n",
      "2    safe ways heal acne altwaystoheal healthy healing\n",
      "3    hp cursed child book reservations already yes ...\n",
      "4    rd bihday amazing hilarious nephew eli ahmir u...\n",
      "Name: tweet, dtype: object\n"
     ]
    }
   ],
   "source": [
    "lower_case(test)"
   ]
  },
  {
   "cell_type": "markdown",
   "id": "67c6f8de",
   "metadata": {},
   "source": [
    "frequent words removal"
   ]
  },
  {
   "cell_type": "code",
   "execution_count": 44,
   "id": "8f032121",
   "metadata": {},
   "outputs": [],
   "source": [
    "freq = pd.Series(' '.join(train['tweet']).split()).value_counts()[:10]\n",
    "freq = list(freq.index)\n",
    "def frequent_words_removal(df):    \n",
    "    df['tweet'] = df['tweet'].apply(lambda x: \" \".join(x for x in x.split() if x not in freq))\n",
    "    print(df['tweet'].head())"
   ]
  },
  {
   "cell_type": "code",
   "execution_count": 45,
   "id": "0b8b3f5f",
   "metadata": {},
   "outputs": [],
   "source": [
    "frequent_words_removal(train)"
   ]
  },
  {
   "cell_type": "code",
   "execution_count": 46,
   "id": "5a4fa6ca",
   "metadata": {},
   "outputs": [],
   "source": [
    "frequent_words_removal(test)"
   ]
  },
  {
   "cell_type": "markdown",
   "id": "e69d8ef6",
   "metadata": {},
   "source": [
    "rare words removal"
   ]
  },
  {
   "cell_type": "code",
   "execution_count": 49,
   "id": "802afa4c",
   "metadata": {},
   "outputs": [],
   "source": [
    "rare = pd.Series(' '.join(train['tweet']).split()).value_counts()[-10:]\n",
    "rare = list(rare.index)\n",
    "def rare_words_removal(df):\n",
    "    df['tweet'] = df['tweet'].apply(lambda x: \" \".join(x for x in x.split() if x not in rare))\n",
    "    print(df['tweet'].head())"
   ]
  },
  {
   "cell_type": "code",
   "execution_count": 50,
   "id": "c198da4f",
   "metadata": {},
   "outputs": [],
   "source": [
    "rare_words_removal(train)"
   ]
  },
  {
   "cell_type": "code",
   "execution_count": 51,
   "id": "2344734c",
   "metadata": {},
   "outputs": [],
   "source": [
    "rare_words_removal(test)"
   ]
  },
  {
   "cell_type": "markdown",
   "id": "beb60f15",
   "metadata": {},
   "source": [
    "spell correction"
   ]
  },
  {
   "cell_type": "code",
   "execution_count": 52,
   "id": "214027fa",
   "metadata": {},
   "outputs": [],
   "source": [
    "def spell_correction(df):\n",
    "    return df['tweet'][:5].apply(lambda x: str(TextBlob(x).correct()))"
   ]
  },
  {
   "cell_type": "code",
   "execution_count": 53,
   "id": "eaebac98",
   "metadata": {},
   "outputs": [
    {
     "data": {
      "text/plain": [
       "0    user father dysfunctional selfish drags kiss d...\n",
       "1    user user thanks left credit can use cause don...\n",
       "2                                       midday majesty\n",
       "3                 model love u take u time or ðððð ððð\n",
       "4                        factsguide society motivation\n",
       "Name: tweet, dtype: object"
      ]
     },
     "execution_count": 53,
     "metadata": {},
     "output_type": "execute_result"
    }
   ],
   "source": [
    "spell_correction(train)"
   ]
  },
  {
   "cell_type": "code",
   "execution_count": 54,
   "id": "84fd33e3",
   "metadata": {},
   "outputs": [
    {
     "data": {
      "text/plain": [
       "0    studiolife dislike requires passion education ...\n",
       "1    user white supremacists want everyone see new ...\n",
       "2    safe ways heal acne altwaystoheal healthy healing\n",
       "3    he cursed child book reservations already yes ...\n",
       "4    rd midday amazing hilarious nephew epi their u...\n",
       "Name: tweet, dtype: object"
      ]
     },
     "execution_count": 54,
     "metadata": {},
     "output_type": "execute_result"
    }
   ],
   "source": [
    "spell_correction(test)"
   ]
  },
  {
   "cell_type": "code",
   "execution_count": 55,
   "id": "b221d6ce",
   "metadata": {},
   "outputs": [
    {
     "name": "stdout",
     "output_type": "stream",
     "text": [
      "\n",
      "DIVIDED SUCCESFULLY...\n"
     ]
    }
   ],
   "source": [
    "x = train[\"tweet\"]\n",
    "y = train[\"label\"]\n",
    "train_x, test_x, train_y, test_y = model_selection.train_test_split(x, y, test_size = 0.20, shuffle = True, random_state = 11)\n",
    "print(\"\\nDIVIDED SUCCESFULLY...\")"
   ]
  },
  {
   "cell_type": "code",
   "execution_count": 56,
   "id": "2c0505a0",
   "metadata": {},
   "outputs": [
    {
     "data": {
      "text/plain": [
       "array([[0., 0., 0., ..., 0., 0., 0.],\n",
       "       [0., 0., 0., ..., 0., 0., 0.],\n",
       "       [0., 0., 0., ..., 0., 0., 0.],\n",
       "       ...,\n",
       "       [0., 0., 0., ..., 0., 0., 0.],\n",
       "       [0., 0., 0., ..., 0., 0., 0.],\n",
       "       [0., 0., 0., ..., 0., 0., 0.]], dtype=float32)"
      ]
     },
     "execution_count": 56,
     "metadata": {},
     "output_type": "execute_result"
    }
   ],
   "source": [
    "vectorizer = CountVectorizer()\n",
    "vectorizer.fit(train_x)\n",
    "\n",
    "x_train_count = vectorizer.transform(train_x).astype('float32')\n",
    "x_test_count = vectorizer.transform(test_x).astype('float32')\n",
    "\n",
    "x_train_count.toarray()"
   ]
  },
  {
   "cell_type": "code",
   "execution_count": 57,
   "id": "673f8cc9",
   "metadata": {},
   "outputs": [
    {
     "data": {
      "text/plain": [
       "array([[0., 0., 0., ..., 0., 0., 0.],\n",
       "       [0., 0., 0., ..., 0., 0., 0.],\n",
       "       [0., 0., 0., ..., 0., 0., 0.],\n",
       "       ...,\n",
       "       [0., 0., 0., ..., 0., 0., 0.],\n",
       "       [0., 0., 0., ..., 0., 0., 0.],\n",
       "       [0., 0., 0., ..., 0., 0., 0.]])"
      ]
     },
     "execution_count": 57,
     "metadata": {},
     "output_type": "execute_result"
    }
   ],
   "source": [
    "tf_idf_word_vectorizer = TfidfVectorizer()\n",
    "tf_idf_word_vectorizer.fit(train_x)\n",
    "\n",
    "x_train_tf_idf_word = tf_idf_word_vectorizer.transform(train_x)\n",
    "x_test_tf_idf_word = tf_idf_word_vectorizer.transform(test_x)\n",
    "\n",
    "x_train_tf_idf_word.toarray()"
   ]
  },
  {
   "cell_type": "code",
   "execution_count": 58,
   "id": "8b5ca7b1",
   "metadata": {},
   "outputs": [
    {
     "name": "stdout",
     "output_type": "stream",
     "text": [
      "\n",
      "Logistic regression model with 'count-vectors' method\n",
      "Accuracy ratio:  0.9466614420062698\n"
     ]
    }
   ],
   "source": [
    "log = linear_model.LogisticRegression()\n",
    "log_model = log.fit(x_train_count, train_y)\n",
    "accuracy = model_selection.cross_val_score(log_model,\n",
    "                                           x_test_count,\n",
    "                                           test_y,\n",
    "                                           cv = 20).mean()\n",
    "\n",
    "print(\"\\nLogistic regression model with 'count-vectors' method\")\n",
    "print(\"Accuracy ratio: \",accuracy)"
   ]
  },
  {
   "cell_type": "code",
   "execution_count": 59,
   "id": "537fea4d",
   "metadata": {},
   "outputs": [
    {
     "name": "stdout",
     "output_type": "stream",
     "text": [
      "\n",
      "Logistic regression model with 'tf-idf' method\n",
      "Accuracy ratio:  0.9297683189655173\n"
     ]
    }
   ],
   "source": [
    "log = linear_model.LogisticRegression()\n",
    "log_model = log.fit(x_train_tf_idf_word, train_y)\n",
    "accuracy = model_selection.cross_val_score(log_model,\n",
    "                                           x_test_tf_idf_word,\n",
    "                                           test_y,\n",
    "                                           cv = 20).mean()\n",
    "\n",
    "print(\"\\nLogistic regression model with 'tf-idf' method\")\n",
    "print(\"Accuracy ratio: \",accuracy)"
   ]
  },
  {
   "cell_type": "code",
   "execution_count": 60,
   "id": "ec473189",
   "metadata": {},
   "outputs": [
    {
     "name": "stdout",
     "output_type": "stream",
     "text": [
      "\n",
      "XGBoost model with 'count-vectors' method\n",
      "Accuracy ratio:  0.9418123040752351\n"
     ]
    }
   ],
   "source": [
    "xgb = XGBClassifier()\n",
    "xgb_model = xgb.fit(x_train_count,train_y)\n",
    "accuracy = model_selection.cross_val_score(xgb_model,\n",
    "                                           x_test_count,\n",
    "                                           test_y,\n",
    "                                           cv = 20).mean()\n",
    "\n",
    "print(\"\\nXGBoost model with 'count-vectors' method\")\n",
    "print(\"Accuracy ratio: \", accuracy)"
   ]
  },
  {
   "cell_type": "code",
   "execution_count": 61,
   "id": "3b1389f4",
   "metadata": {},
   "outputs": [
    {
     "name": "stdout",
     "output_type": "stream",
     "text": [
      "\n",
      "Light GBM model with 'tf-idf' method\n",
      "Accuracy ratio:  0.9350857170846394\n"
     ]
    }
   ],
   "source": [
    "lgbm = LGBMClassifier()\n",
    "lgbm_model = lgbm.fit(x_train_tf_idf_word,train_y)\n",
    "accuracy = model_selection.cross_val_score(lgbm_model,\n",
    "                                           x_test_tf_idf_word,\n",
    "                                           test_y,\n",
    "                                           cv = 20).mean()\n",
    "\n",
    "print(\"\\nLight GBM model with 'tf-idf' method\")\n",
    "print(\"Accuracy ratio: \", accuracy)"
   ]
  },
  {
   "cell_type": "code",
   "execution_count": 62,
   "id": "d48f5088",
   "metadata": {},
   "outputs": [
    {
     "name": "stdout",
     "output_type": "stream",
     "text": [
      "\n",
      "Light GBM model with 'tf-idf' method\n",
      "Accuracy ratio:  0.9339914772727271\n"
     ]
    }
   ],
   "source": [
    "lgbm = LGBMClassifier()\n",
    "lgbm_model = lgbm.fit(x_train_count,train_y)\n",
    "accuracy = model_selection.cross_val_score(lgbm_model,\n",
    "                                           x_test_count,\n",
    "                                           test_y,\n",
    "                                           cv = 20).mean()\n",
    "\n",
    "print(\"\\nLight GBM model with 'tf-idf' method\")\n",
    "print(\"Accuracy ratio: \", accuracy)"
   ]
  },
  {
   "cell_type": "code",
   "execution_count": 63,
   "id": "2bfb6914",
   "metadata": {},
   "outputs": [],
   "source": [
    "y = train_y\n",
    "X = x_train_count.astype(\"float64\")\n",
    "\n",
    "lgbm_roc_auc = roc_auc_score(y, lgbm_model.predict(X))\n",
    "log_roc_auc = roc_auc_score(y, log_model.predict(X))\n",
    "xgb_roc_auc = roc_auc_score(y, xgb_model.predict(X))\n",
    "\n"
   ]
  },
  {
   "cell_type": "code",
   "execution_count": 64,
   "id": "98fe96c6",
   "metadata": {},
   "outputs": [
    {
     "data": {
      "image/png": "[encoded data removed]",
      "text/plain": [
       "<Figure size 640x480 with 1 Axes>"
      ]
     },
     "metadata": {},
     "output_type": "display_data"
    }
   ],
   "source": [
    "lgbm_fpr, lgbm_tpr, lgbm_thresholds = roc_curve(y, lgbm_model.predict_proba(X)[:,1])\n",
    "log_fpr, log_tpr, log_thresholds = roc_curve(y, log_model.predict_proba(X)[:,1])\n",
    "xgb_fpr,xgb_tpr, xgb_thresholds = roc_curve(y, xgb_model.predict_proba(X)[:,1])\n",
    "\n",
    "plt.figure()\n",
    "plt.plot(lgbm_fpr, lgbm_tpr, label='lgbm auc (area = %0.2f)' % lgbm_roc_auc)\n",
    "plt.plot(log_fpr, log_tpr, label='log auc (area = %0.2f)' % log_roc_auc)\n",
    "plt.plot(xgb_fpr, xgb_tpr, label='xgb auc (area = %0.2f)' % xgb_roc_auc)\n",
    "\n",
    "plt.plot([0, 1], [0, 1],'r--')\n",
    "plt.xlim([0.0, 1.0])\n",
    "plt.ylim([0.0, 1.05])\n",
    "plt.xlabel('False Positive Rate')\n",
    "plt.ylabel('True Positive Rate')\n",
    "plt.title('ROC')\n",
    "plt.legend()\n",
    "plt.show()"
   ]
  },
  {
   "cell_type": "code",
   "execution_count": 65,
   "id": "705c3226",
   "metadata": {},
   "outputs": [
    {
     "data": {
      "text/html": [
       "<div>\n",
       "<style scoped>\n",
       "    .dataframe tbody tr th:only-of-type {\n",
       "        vertical-align: middle;\n",
       "    }\n",
       "\n",
       "    .dataframe tbody tr th {\n",
       "        vertical-align: top;\n",
       "    }\n",
       "\n",
       "    .dataframe thead th {\n",
       "        text-align: right;\n",
       "    }\n",
       "</style>\n",
       "<table border=\"1\" class=\"dataframe\">\n",
       "  <thead>\n",
       "    <tr style=\"text-align: right;\">\n",
       "      <th></th>\n",
       "      <th>tweet</th>\n",
       "      <th>word_count</th>\n",
       "      <th>avg_word</th>\n",
       "      <th>stopwords</th>\n",
       "    </tr>\n",
       "  </thead>\n",
       "  <tbody>\n",
       "    <tr>\n",
       "      <th>0</th>\n",
       "      <td>studiolife aislife requires passion dedication...</td>\n",
       "      <td>12</td>\n",
       "      <td>8.777778</td>\n",
       "      <td>1</td>\n",
       "    </tr>\n",
       "    <tr>\n",
       "      <th>1</th>\n",
       "      <td>user white supremacists want everyone see new ...</td>\n",
       "      <td>20</td>\n",
       "      <td>5.125000</td>\n",
       "      <td>4</td>\n",
       "    </tr>\n",
       "    <tr>\n",
       "      <th>2</th>\n",
       "      <td>safe ways heal acne altwaystoheal healthy healing</td>\n",
       "      <td>15</td>\n",
       "      <td>6.333333</td>\n",
       "      <td>2</td>\n",
       "    </tr>\n",
       "    <tr>\n",
       "      <th>3</th>\n",
       "      <td>hp cursed child book reservations already yes ...</td>\n",
       "      <td>24</td>\n",
       "      <td>5.409091</td>\n",
       "      <td>8</td>\n",
       "    </tr>\n",
       "    <tr>\n",
       "      <th>4</th>\n",
       "      <td>rd bihday amazing hilarious nephew eli ahmir u...</td>\n",
       "      <td>18</td>\n",
       "      <td>5.066667</td>\n",
       "      <td>4</td>\n",
       "    </tr>\n",
       "  </tbody>\n",
       "</table>\n",
       "</div>"
      ],
      "text/plain": [
       "                                               tweet  word_count  avg_word  \\\n",
       "0  studiolife aislife requires passion dedication...          12  8.777778   \n",
       "1  user white supremacists want everyone see new ...          20  5.125000   \n",
       "2  safe ways heal acne altwaystoheal healthy healing          15  6.333333   \n",
       "3  hp cursed child book reservations already yes ...          24  5.409091   \n",
       "4  rd bihday amazing hilarious nephew eli ahmir u...          18  5.066667   \n",
       "\n",
       "   stopwords  \n",
       "0          1  \n",
       "1          4  \n",
       "2          2  \n",
       "3          8  \n",
       "4          4  "
      ]
     },
     "execution_count": 65,
     "metadata": {},
     "output_type": "execute_result"
    }
   ],
   "source": [
    "#Look at the first 5 rows of the test set\n",
    "test.head()"
   ]
  },
  {
   "cell_type": "code",
   "execution_count": 66,
   "id": "2bae0549",
   "metadata": {},
   "outputs": [
    {
     "data": {
      "text/plain": [
       "array([[0, 0, 0, ..., 0, 0, 0],\n",
       "       [0, 0, 0, ..., 0, 0, 0],\n",
       "       [0, 0, 0, ..., 0, 0, 0],\n",
       "       ...,\n",
       "       [0, 0, 0, ..., 0, 0, 0],\n",
       "       [0, 0, 0, ..., 0, 0, 0],\n",
       "       [0, 0, 0, ..., 0, 0, 0]], dtype=int64)"
      ]
     },
     "execution_count": 66,
     "metadata": {},
     "output_type": "execute_result"
    }
   ],
   "source": [
    "#Here we encode values of \"tweet\" column of test set with \"count-vectors\" method.\n",
    "vectorizer = CountVectorizer()\n",
    "vectorizer.fit(train_x)\n",
    "test_set = vectorizer.transform(test[\"tweet\"])\n",
    "test_set.toarray()"
   ]
  },
  {
   "cell_type": "code",
   "execution_count": 67,
   "id": "cdfa2cb5",
   "metadata": {},
   "outputs": [
    {
     "data": {
      "text/plain": [
       "(-0.5, 499.5, 499.5, -0.5)"
      ]
     },
     "execution_count": 67,
     "metadata": {},
     "output_type": "execute_result"
    },
    {
     "data": {
      "image/png": "[encoded data removed]",
      "text/plain": [
       "<Figure size 500x500 with 1 Axes>"
      ]
     },
     "metadata": {},
     "output_type": "display_data"
    }
   ],
   "source": [
    "#from wordcloud import WordCloud, STOPWORDS, ImageColorGenerator\n",
    "#from PIL import Image\n",
    "\n",
    "#tw_mask = np.array(Image.open('../input/masksforwordclouds/twitter_mask3.jpg'))\n",
    "\n",
    "text = \" \".join(i for i in train.tweet)\n",
    "\n",
    "wc = WordCloud(background_color = \"black\",\n",
    "               width = 500,\n",
    "               height = 500,\n",
    "               contour_width = 0,\n",
    "               contour_color = \"red\",\n",
    "               max_words = 1000,\n",
    "               scale = 1,\n",
    "               collocations = False,\n",
    "               repeat = True,\n",
    "               min_font_size = 1)\n",
    "\n",
    "wc.generate(text)\n",
    "\n",
    "plt.figure(figsize = [5,5])\n",
    "plt.imshow(wc)\n",
    "plt.axis(\"off\")"
   ]
  },
  {
   "cell_type": "code",
   "execution_count": 68,
   "id": "06dfd668",
   "metadata": {},
   "outputs": [],
   "source": [
    "import pickle\n",
    "pickle.dump(vectorizer,open('vectorizer.pkl','wb'))\n",
    "pickle.dump(log,open('model.pkl','wb'))"
   ]
  },
  {
   "cell_type": "code",
   "execution_count": null,
   "id": "815aa0a2",
   "metadata": {},
   "outputs": [],
   "source": []
  },
  {
   "cell_type": "code",
   "execution_count": null,
   "id": "ab65590e",
   "metadata": {},
   "outputs": [],
   "source": []
  },
  {
   "cell_type": "code",
   "execution_count": null,
   "id": "f0b48dd1",
   "metadata": {},
   "outputs": [],
   "source": []
  },
  {
   "cell_type": "code",
   "execution_count": null,
   "id": "c10792e0",
   "metadata": {},
   "outputs": [],
   "source": []
  },
  {
   "cell_type": "code",
   "execution_count": null,
   "id": "660e2fe5",
   "metadata": {},
   "outputs": [],
   "source": []
  },
  {
   "cell_type": "code",
   "execution_count": null,
   "id": "1cb72ffd",
   "metadata": {},
   "outputs": [],
   "source": []
  },
  {
   "cell_type": "code",
   "execution_count": null,
   "id": "b4aa19a8",
   "metadata": {},
   "outputs": [],
   "source": []
  },
  {
   "cell_type": "code",
   "execution_count": null,
   "id": "30700203",
   "metadata": {},
   "outputs": [],
   "source": []
  },
  {
   "cell_type": "code",
   "execution_count": null,
   "id": "068a7804",
   "metadata": {},
   "outputs": [],
   "source": []
  },
  {
   "cell_type": "code",
   "execution_count": null,
   "id": "aebb6d40",
   "metadata": {},
   "outputs": [],
   "source": []
  },
  {
   "cell_type": "code",
   "execution_count": null,
   "id": "90845aa5",
   "metadata": {},
   "outputs": [],
   "source": []
  },
  {
   "cell_type": "code",
   "execution_count": null,
   "id": "c0e81518",
   "metadata": {},
   "outputs": [],
   "source": []
  },
  {
   "cell_type": "code",
   "execution_count": null,
   "id": "189fb578",
   "metadata": {},
   "outputs": [],
   "source": []
  },
  {
   "cell_type": "code",
   "execution_count": null,
   "id": "e24f415b",
   "metadata": {},
   "outputs": [],
   "source": []
  },
  {
   "cell_type": "code",
   "execution_count": null,
   "id": "f1368067",
   "metadata": {},
   "outputs": [],
   "source": []
  },
  {
   "cell_type": "code",
   "execution_count": null,
   "id": "1d5a042f",
   "metadata": {},
   "outputs": [],
   "source": []
  },
  {
   "cell_type": "code",
   "execution_count": null,
   "id": "9be8c3e7",
   "metadata": {},
   "outputs": [],
   "source": []
  },
  {
   "cell_type": "code",
   "execution_count": null,
   "id": "8245b893",
   "metadata": {},
   "outputs": [],
   "source": []
  },
  {
   "cell_type": "code",
   "execution_count": null,
   "id": "55ee2086",
   "metadata": {},
   "outputs": [],
   "source": []
  },
  {
   "cell_type": "code",
   "execution_count": null,
   "id": "eec9186f",
   "metadata": {},
   "outputs": [],
   "source": []
  },
  {
   "cell_type": "code",
   "execution_count": null,
   "id": "4fb92378",
   "metadata": {},
   "outputs": [],
   "source": []
  },
  {
   "cell_type": "code",
   "execution_count": null,
   "id": "b9544ea8",
   "metadata": {},
   "outputs": [],
   "source": []
  },
  {
   "cell_type": "code",
   "execution_count": null,
   "id": "2391823b",
   "metadata": {},
   "outputs": [],
   "source": []
  },
  {
   "cell_type": "code",
   "execution_count": null,
   "id": "604cb1fc",
   "metadata": {},
   "outputs": [],
   "source": []
  },
  {
   "cell_type": "code",
   "execution_count": null,
   "id": "756839eb",
   "metadata": {},
   "outputs": [],
   "source": []
  },
  {
   "cell_type": "code",
   "execution_count": null,
   "id": "65e6a835",
   "metadata": {},
   "outputs": [],
   "source": []
  },
  {
   "cell_type": "code",
   "execution_count": null,
   "id": "8dd24fd9",
   "metadata": {},
   "outputs": [],
   "source": []
  },
  {
   "cell_type": "code",
   "execution_count": null,
   "id": "1dc5ac98",
   "metadata": {},
   "outputs": [],
   "source": []
  },
  {
   "cell_type": "code",
   "execution_count": null,
   "id": "b3bff94b",
   "metadata": {},
   "outputs": [],
   "source": []
  },
  {
   "cell_type": "code",
   "execution_count": null,
   "id": "750eadcb",
   "metadata": {},
   "outputs": [],
   "source": []
  },
  {
   "cell_type": "code",
   "execution_count": null,
   "id": "67d277cd",
   "metadata": {},
   "outputs": [],
   "source": []
  },
  {
   "cell_type": "code",
   "execution_count": null,
   "id": "8c99dee6",
   "metadata": {},
   "outputs": [],
   "source": []
  },
  {
   "cell_type": "code",
   "execution_count": null,
   "id": "66aa3098",
   "metadata": {},
   "outputs": [],
   "source": []
  },
  {
   "cell_type": "code",
   "execution_count": null,
   "id": "297cd0f6",
   "metadata": {},
   "outputs": [],
   "source": []
  },
  {
   "cell_type": "code",
   "execution_count": null,
   "id": "65908e9b",
   "metadata": {},
   "outputs": [],
   "source": []
  },
  {
   "cell_type": "code",
   "execution_count": null,
   "id": "b65bee67",
   "metadata": {},
   "outputs": [],
   "source": []
  },
  {
   "cell_type": "code",
   "execution_count": null,
   "id": "0040f42c",
   "metadata": {},
   "outputs": [],
   "source": []
  },
  {
   "cell_type": "code",
   "execution_count": null,
   "id": "335fbe6a",
   "metadata": {},
   "outputs": [],
   "source": []
  },
  {
   "cell_type": "code",
   "execution_count": null,
   "id": "b9f6b6b7",
   "metadata": {},
   "outputs": [],
   "source": []
  },
  {
   "cell_type": "code",
   "execution_count": null,
   "id": "2ca86e09",
   "metadata": {},
   "outputs": [],
   "source": []
  },
  {
   "cell_type": "code",
   "execution_count": null,
   "id": "96a7538e",
   "metadata": {},
   "outputs": [],
   "source": []
  },
  {
   "cell_type": "code",
   "execution_count": null,
   "id": "b5eaa1b8",
   "metadata": {},
   "outputs": [],
   "source": []
  },
  {
   "cell_type": "code",
   "execution_count": null,
   "id": "ab4bf8cf",
   "metadata": {},
   "outputs": [],
   "source": []
  },
  {
   "cell_type": "code",
   "execution_count": null,
   "id": "93e342d8",
   "metadata": {},
   "outputs": [],
   "source": []
  },
  {
   "cell_type": "code",
   "execution_count": null,
   "id": "f8e9e487",
   "metadata": {},
   "outputs": [],
   "source": []
  }
 ],
 "metadata": {
  "kernelspec": {
   "display_name": "Python 3",
   "language": "python",
   "name": "python3"
  },
  "language_info": {
   "codemirror_mode": {
    "name": "ipython",
    "version": 3
   },
   "file_extension": ".py",
   "mimetype": "text/x-python",
   "name": "python",
   "nbconvert_exporter": "python",
   "pygments_lexer": "ipython3",
   "version": "3.9.0"
  },
  "vscode": {
   "interpreter": {
    "hash": "3cb03647ce0a65e27132d7d4406411ace70c30a380720e5b83422a9d6fca2dbd"
   }
  }
 },
 "nbformat": 4,
 "nbformat_minor": 5
}
